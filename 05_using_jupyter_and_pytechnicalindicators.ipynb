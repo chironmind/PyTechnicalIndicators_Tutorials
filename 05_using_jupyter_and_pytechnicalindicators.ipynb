{
 "cells": [
  {
   "cell_type": "markdown",
   "metadata": {},
   "source": [
    "# PyTechnicalIndicators: Full Walkthrough\n",
    "\n",
    "This notebook will walk you through the end-to-end workflow for research with [PyTechnicalIndicators](https://github.com/chironmind/PyTechnicalIndicators):\n",
    "\n",
    "- Fetching fresh OHLCV data from Binance\n",
    "- Calculating multiple technical indicators\n",
    "- Systematic evaluation of RSI model variants\n",
    "- Visualizing price and indicators\n",
    "- Ranking and comparing indicator performance\n",
    "\n",
    "> **Requirements**: `pytechnicalindicators`, `pandas`, `requests`, `plotly`\n",
    "> \n",
    "> Install with: \n",
    "> ```bash\n",
    "> pip install pytechnicalindicators pandas requests plotly\n",
    "> ```\n",
    "\n",
    "---"
   ]
  },
  {
   "cell_type": "markdown",
   "metadata": {},
   "source": [
    "## 1. Fetch Fresh Data from Binance\n",
    "\n",
    "We will use [Binance's free API](https://binance-docs.github.io/apidocs/spot/en/#kline-candlestick-data) to get daily OHLCV data for a crypto symbol (e.g. `BTCUSDT`)."
   ]
  },
  {
   "cell_type": "code",
   "metadata": {},
   "execution_count": null,
   "outputs": [],
   "source": [
    "import requests\n",
    "import pandas as pd\n",
    "\n",
    "def fetch_binance_ohlcv(symbol=\"BTCUSDT\", interval=\"1d\", limit=365):\n",
    "    url = \"https://api.binance.com/api/v3/klines\"\n",
    "    params = {\"symbol\": symbol, \"interval\": interval, \"limit\": limit}\n",
    "    resp = requests.get(url, params=params)\n",
    "    resp.raise_for_status()\n",
    "    data = resp.json()\n",
    "    df = pd.DataFrame(data, columns=[\n",
    "        \"OpenTime\", \"Open\", \"High\", \"Low\", \"Close\", \"Volume\",\n",
    "        \"CloseTime\", \"QuoteAssetVolume\", \"NumTrades\", \"TakerBuyBase\", \"TakerBuyQuote\", \"Ignore\"\n",
    "    ])\n",
    "    df[\"Date\"] = pd.to_datetime(df[\"OpenTime\"], unit=\"ms\")\n",
    "    cols = [\"Date\", \"Open\", \"High\", \"Low\", \"Close\", \"Volume\"]\n",
    "    df = df[cols].astype({\"Open\": float, \"High\": float, \"Low\": float, \"Close\": float, \"Volume\": float})\n",
    "    df = df.sort_values(\"Date\").reset_index(drop=True)\n",
    "    return df\n",
    "\n",
    "# Fetch data\n",
    "df = fetch_binance_ohlcv(\"BTCUSDT\", \"1d\", 365)\n",
    "df.tail()"
   ]
  },
  {
   "cell_type": "markdown",
   "metadata": {},
   "source": [
    "## 2. Clean Data & Prepare Series\n",
    "\n",
    "Prepare series as lists for indicator calculations."
   ]
  },
  {
   "cell_type": "code",
   "metadata": {},
   "execution_count": null,
   "outputs": [],
   "source": [
    "df = df.dropna(subset=[\"Open\", \"High\", \"Low\", \"Close\"])\n",
    "close = df[\"Close\"].tolist()\n",
    "high  = df[\"High\"].tolist()\n",
    "low   = df[\"Low\"].tolist()\n",
    "open_ = df[\"Open\"].tolist()\n",
    "volume = df[\"Volume\"].tolist()"
   ]
  },
  {
   "cell_type": "markdown",
   "metadata": {},
   "source": [
    "## 3. Calculate Technical Indicators\n",
    "\n",
    "Let's calculate some basic indicators: SMA, ATR."
   ]
  },
  {
   "cell_type": "code",
   "metadata": {},
   "execution_count": null,
   "outputs": [],
   "source": [
    "import pytechnicalindicators as pti\n",
    "\n",
    "# 20-period simple moving average\n",
    "sma_20 = pti.moving_average.bulk.moving_average(close, period=20, moving_average_type=\"simple\")\n",
    "df.loc[df.index[-len(sma_20):], \"SMA_20\"] = sma_20\n",
    "\n",
    "# 14-period exponential ATR\n",
    "atr_14 = pti.other_indicators.bulk.average_true_range(close=close, high=high, low=low, constant_model_type=\"exponential\", period=14)\n",
    "df.loc[df.index[-len(atr_14):], \"ATR_14\"] = atr_14\n",
    "\n",
    "df.tail()"
   ]
  },
  {
   "cell_type": "markdown",
   "metadata": {},
   "source": [
    "## 4. Systematic RSI Variant Evaluation\n",
    "\n",
    "Let's evaluate different `constant_model_type` variants for RSI with a fixed period and generate a simple next-day-up \"signal score\" as in the Rust tutorial."
   ]
  },
  {
   "cell_type": "code",
   "metadata": {},
   "execution_count": null,
   "outputs": [],
   "source": [
    "CONSTANT_MODELS = [\"simple\", \"smoothed\", \"exponential\", \"median\", \"mode\"]\n",
    "RSI_PERIOD = 5\n",
    "OVERSOLD = 30.0\n",
    "rsi_results = []\n",
    "all_rsi_values = {}\n",
    "\n",
    "for ctype in CONSTANT_MODELS:\n",
    "    rsi_vals = pti.momentum_indicators.bulk.relative_strength_index(\n",
    "        close, constant_model_type=ctype, period=RSI_PERIOD)\n",
    "    # Store for later visualization\n",
    "    all_rsi_values[ctype] = rsi_vals\n",
    "    start_idx = len(close) - len(rsi_vals)\n",
    "    rating = 0\n",
    "    total_signals = 0\n",
    "    for offset, rsi in enumerate(rsi_vals[:-1]):  # skip last (no future bar)\n",
    "        idx = start_idx + offset\n",
    "        price = close[idx]\n",
    "        if rsi < OVERSOLD:\n",
    "            total_signals += 1\n",
    "            next_price = close[idx + 1]\n",
    "            if next_price > price:\n",
    "                rating += 1\n",
    "    success_rate = rating / total_signals if total_signals > 0 else 0.0\n",
    "    rsi_results.append({\n",
    "        \"model\": ctype,\n",
    "        \"period\": RSI_PERIOD,\n",
    "        \"signals\": total_signals,\n",
    "        \"correct_signals\": rating,\n",
    "        \"success_rate\": success_rate\n",
    "    })\n",
    "\n",
    "score_df = pd.DataFrame(rsi_results).sort_values(\"success_rate\", ascending=False)\n",
    "score_df"
   ]
  },
  {
   "cell_type": "markdown",
   "metadata": {},
   "source": [
    "**Best Model:**"
   ]
  },
  {
   "cell_type": "code",
   "metadata": {},
   "execution_count": null,
   "outputs": [],
   "source": [
    "best = score_df.iloc[0]\n",
    "best_model = best['model']\n",
    "print(f\"Best model: {best_model} (Success Rate: {best['success_rate']:.2%})\")\n",
    "\n",
    "# Also add the best RSI as a column to the df for visualization\n",
    "best_rsi = all_rsi_values[best_model]\n",
    "df.loc[df.index[-len(best_rsi):], f\"RSI_{RSI_PERIOD}_{best_model}\"] = best_rsi"
   ]
  },
  {
   "cell_type": "markdown",
   "metadata": {},
   "source": [
    "## 5. Visualize Price, SMA, and the Best RSI Variant\n",
    "\n",
    "We'll overlay price, SMA, and the highest-scoring RSI variant (according to the previous evaluation)."
   ]
  },
  {
   "cell_type": "code",
   "metadata": {},
   "execution_count": null,
   "outputs": [],
   "source": [
    "import plotly.graph_objs as go\n",
    "\n",
    "rsi_col = f\"RSI_{RSI_PERIOD}_{best_model}\"\n",
    "\n",
    "fig = go.Figure([\n",
    "    go.Candlestick(\n",
    "        x=df[\"Date\"], open=df[\"Open\"], high=df[\"High\"], low=df[\"Low\"], close=df[\"Close\"], name=\"Price\"),\n",
    "    go.Scatter(x=df[\"Date\"], y=df[\"SMA_20\"], line=dict(color=\"orange\"), name=\"SMA 20\"),\n",
    "    go.Scatter(x=df[\"Date\"], y=df[rsi_col], yaxis=\"y2\", name=f\"RSI {RSI_PERIOD} {best_model}\", line=dict(color=\"purple\"))\n",
    "])\n",
    "fig.update_layout(\n",
    "    title=f\"BTCUSDT Price, SMA, and Best RSI ({best_model})\",\n",
    "    yaxis=dict(title=\"Price\"),\n",
    "    yaxis2=dict(title=\"RSI\", overlaying=\"y\", side=\"right\"),\n",
    "    template=\"plotly_white\"\n",
    ")\n",
    "fig.show()"
   ]
  },
  {
   "cell_type": "markdown",
   "metadata": {},
   "source": [
    "## 6. Extending Further\n",
    "\n",
    "- Try different symbols (e.g. `ETHUSDT`, `BNBUSDT`)\n",
    "- Change intervals (e.g. `4h`, `1h`)\n",
    "- Add more indicator columns or custom logic for signals\n",
    "- Save the enriched DataFrame to disk for further research\n",
    "\n",
    "---\n",
    "\n",
    "Happy systematic research! 🦀🐍📈"
   ]
  }
 ],
 "metadata": {
  "kernelspec": {
   "display_name": "Python 3",
   "language": "python",
   "name": "python3"
  },
  "language_info": {
   "name": "python",
   "version": "3.10"
  }
 },
 "nbformat": 4,
 "nbformat_minor": 5
}
